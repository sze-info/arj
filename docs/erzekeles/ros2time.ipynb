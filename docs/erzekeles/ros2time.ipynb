{
 "cells": [
  {
   "cell_type": "code",
   "execution_count": 1,
   "metadata": {},
   "outputs": [],
   "source": [
    "import rclpy\n",
    "# use only once\n",
    "rclpy.init()"
   ]
  },
  {
   "cell_type": "code",
   "execution_count": 2,
   "metadata": {},
   "outputs": [
    {
     "name": "stdout",
     "output_type": "stream",
     "text": [
      "builtin_interfaces.msg.Time(sec=1694595162, nanosec=945886859)\n"
     ]
    }
   ],
   "source": [
    "# print current time with rclpy\n",
    "node = rclpy.create_node('time_node')\n",
    "current_time = node.get_clock().now()\n",
    "print(current_time.to_msg())"
   ]
  },
  {
   "cell_type": "code",
   "execution_count": 3,
   "metadata": {},
   "outputs": [
    {
     "name": "stdout",
     "output_type": "stream",
     "text": [
      "Type of current_time:\t<class 'rclpy.time.Time'>\n",
      "Type of current_time.to_msg():\t<class 'builtin_interfaces.msg._time.Time'>\n"
     ]
    }
   ],
   "source": [
    "# print current_time to ISO format\n",
    "from datetime import datetime\n",
    "\n",
    "print(\"Type of current_time:\", end=\"\\t\")\n",
    "print(type(current_time))\n",
    "print(\"Type of current_time.to_msg():\", end=\"\\t\")\n",
    "print(type(current_time.to_msg()))"
   ]
  },
  {
   "cell_type": "code",
   "execution_count": 4,
   "metadata": {},
   "outputs": [
    {
     "name": "stdout",
     "output_type": "stream",
     "text": [
      "As a float:\t1694595162.94589\n",
      "ISO format:\t2023-09-13T08:52:42.945887\n"
     ]
    }
   ],
   "source": [
    "current_time_float = current_time.to_msg().sec + current_time.to_msg().nanosec / 1e9 # 1e9 is 1,000,000,000: nanosec to sec\n",
    "print(\"As a float:\\t%.5f\" % (current_time_float))\n",
    "print(\"ISO format:\", end=\"\\t\")\n",
    "print(datetime.utcfromtimestamp(current_time_float).isoformat())"
   ]
  },
  {
   "cell_type": "code",
   "execution_count": 5,
   "metadata": {},
   "outputs": [
    {
     "name": "stdout",
     "output_type": "stream",
     "text": [
      "ISO format:\t2020-09-13T12:26:40\n"
     ]
    }
   ],
   "source": [
    "big_float = 1600000000.0\n",
    "print(\"ISO format:\", end=\"\\t\")\n",
    "print(datetime.utcfromtimestamp(big_float).isoformat())"
   ]
  }
 ],
 "metadata": {
  "kernelspec": {
   "display_name": "Python 3",
   "language": "python",
   "name": "python3"
  },
  "language_info": {
   "codemirror_mode": {
    "name": "ipython",
    "version": 3
   },
   "file_extension": ".py",
   "mimetype": "text/x-python",
   "name": "python",
   "nbconvert_exporter": "python",
   "pygments_lexer": "ipython3",
   "version": "3.10.12"
  },
  "orig_nbformat": 4
 },
 "nbformat": 4,
 "nbformat_minor": 2
}
