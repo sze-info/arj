{
 "cells": [
  {
   "cell_type": "code",
   "execution_count": 1,
   "metadata": {},
   "outputs": [],
   "source": [
    "import utm"
   ]
  },
  {
   "cell_type": "code",
   "execution_count": 2,
   "metadata": {},
   "outputs": [
    {
     "data": {
      "text/plain": [
       "(46.894188434576925, 16.834861347101725)"
      ]
     },
     "execution_count": 2,
     "metadata": {},
     "output_type": "execute_result"
    }
   ],
   "source": [
    "utm.to_latlon(639770.000, 5195040.000, 33, 'T')"
   ]
  },
  {
   "cell_type": "code",
   "execution_count": 3,
   "metadata": {},
   "outputs": [
    {
     "name": "stdout",
     "output_type": "stream",
     "text": [
      "ZalaZone\n",
      "https://www.google.hu/maps/@46.894188434576925,16.834861347101725m/data=!3m1!1e3?entry=ttu\n",
      "https://www.openstreetmap.org/#map=19/46.894188434576925/16.834861347101725\n",
      "Campus\n",
      "https://www.google.hu/maps/@47.69405596312653,17.62866888484998m/data=!3m1!1e3?entry=ttu\n",
      "https://www.openstreetmap.org/#map=19/47.69405596312653/17.62866888484998\n"
     ]
    }
   ],
   "source": [
    "lat, lon = utm.to_latlon(639770.000, 5195040.000, 33, 'T') # Zala Zone\n",
    "print(\"ZalaZone\")\n",
    "print(\"https://www.google.hu/maps/@\" + str(lat) + \",\" + str(lon) + \"m/data=!3m1!1e3?entry=ttu\")\n",
    "print(\"https://www.openstreetmap.org/#map=19/\" + str(lat) + \"/\" + str(lon))\n",
    "\n",
    "\n",
    "\n",
    "lat, lon = utm.to_latlon(697237.000, 5285644.00, 33, 'T') # Campus Győr\n",
    "print(\"Campus\")\n",
    "print(\"https://www.google.hu/maps/@\" + str(lat) + \",\" + str(lon) + \"m/data=!3m1!1e3?entry=ttu\")\n",
    "print(\"https://www.openstreetmap.org/#map=19/\" + str(lat) + \"/\" + str(lon))\n"
   ]
  },
  {
   "cell_type": "code",
   "execution_count": 4,
   "metadata": {},
   "outputs": [
    {
     "name": "stdout",
     "output_type": "stream",
     "text": [
      "(697237.0000192814, 5285644.004006204, 33, 'T')\n"
     ]
    }
   ],
   "source": [
    "print(utm.from_latlon(47.69405596312653, 17.62866888484998))"
   ]
  },
  {
   "cell_type": "code",
   "execution_count": 5,
   "metadata": {},
   "outputs": [
    {
     "name": "stdout",
     "output_type": "stream",
     "text": [
      "ros2 run tf2_ros static_transform_publisher --x 640152.0282826852 --y 5193647.979721197 --z 0.0 --qx 0.0 --qy 0.0 --qz 0.0 --qw 1.0 --frame-id map --child-frame-id map_point_0\n",
      "ros2 run tf2_ros static_transform_publisher --x 382.02828268520534 --y -1392.0202788030729 --z 0.0 --qx 0.0 --qy 0.0 --qz 0.0 --qw 1.0 --frame-id map_zala_0 --child-frame-id map_point_0\n"
     ]
    }
   ],
   "source": [
    "map_gyor_0_x = 697237.0\n",
    "map_gyor_0_y = 5285644.0\n",
    "map_zala_0_x = 639770.0\n",
    "map_zala_0_y = 5195040.0\n",
    "\n",
    "x1, y1, _, _ = utm.from_latlon(46.88158771091701, 16.839445659615887)\n",
    "\n",
    "print(\"ros2 run tf2_ros static_transform_publisher --x \" + str(x1)  + \" --y \" + str(y1) + \" --z 0.0 --qx 0.0 --qy 0.0 --qz 0.0 --qw 1.0 --frame-id map --child-frame-id map_point_0\")\n",
    "print(\"ros2 run tf2_ros static_transform_publisher --x \" + str(x1 - map_zala_0_x)  + \" --y \" + str(y1 - map_zala_0_y) + \" --z 0.0 --qx 0.0 --qy 0.0 --qz 0.0 --qw 1.0 --frame-id map_zala_0 --child-frame-id map_point_0\")"
   ]
  }
 ],
 "metadata": {
  "kernelspec": {
   "display_name": "Python 3",
   "language": "python",
   "name": "python3"
  },
  "language_info": {
   "codemirror_mode": {
    "name": "ipython",
    "version": 3
   },
   "file_extension": ".py",
   "mimetype": "text/x-python",
   "name": "python",
   "nbconvert_exporter": "python",
   "pygments_lexer": "ipython3",
   "version": "3.10.12"
  },
  "orig_nbformat": 4
 },
 "nbformat": 4,
 "nbformat_minor": 2
}
