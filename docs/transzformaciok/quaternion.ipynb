{
 "cells": [
  {
   "cell_type": "code",
   "execution_count": 1,
   "metadata": {},
   "outputs": [],
   "source": [
    "# without ROS 2\n",
    "\n",
    "import math\n",
    "import numpy as np\n",
    "\n",
    "def  quaternion_to_euler(q0: float, q1: float, q2: float, q3: float) -> tuple:\n",
    "    roll = math.atan2(2 * ((q2 * q3) + (q0 * q1)), q0**2 - q1**2 - q2**2 + q3**2)\n",
    "    pitch = math.asin(2 * ((q1 * q3) - (q0 * q2)))\n",
    "    yaw = math.atan2(2 * ((q1 * q2) + (q0 * q3)), q0**2 + q1**2 - q2**2 - q3**2)\n",
    "    return (roll, pitch, yaw)\n",
    "\n",
    "\n",
    "def quaternion_from_euler(ai, aj, ak):\n",
    "    ai /= 2.0\n",
    "    aj /= 2.0\n",
    "    ak /= 2.0\n",
    "    ci = math.cos(ai)\n",
    "    si = math.sin(ai)\n",
    "    cj = math.cos(aj)\n",
    "    sj = math.sin(aj)\n",
    "    ck = math.cos(ak)\n",
    "    sk = math.sin(ak)\n",
    "    cc = ci*ck\n",
    "    cs = ci*sk\n",
    "    sc = si*ck\n",
    "    ss = si*sk\n",
    "\n",
    "    q = np.empty((4, ))\n",
    "    q[0] = cj*sc - sj*cs\n",
    "    q[1] = cj*ss + sj*cc\n",
    "    q[2] = cj*cs - sj*sc\n",
    "    q[3] = cj*cc + sj*ss\n",
    "\n",
    "    return q\n",
    "\n"
   ]
  },
  {
   "cell_type": "code",
   "execution_count": 2,
   "metadata": {},
   "outputs": [
    {
     "name": "stdout",
     "output_type": "stream",
     "text": [
      "geometry_msgs.msg.Quaternion(x=0.0, y=1.0, z=0.0, w=0.0)\n"
     ]
    }
   ],
   "source": [
    "import geometry_msgs.msg\n",
    "\n",
    "my_quat = geometry_msgs.msg.Quaternion()\n",
    "my_quat.x = 0.0\n",
    "my_quat.y = 1.0\n",
    "my_quat.z = 0.0\n",
    "my_quat.w = 0.0\n",
    "\n",
    "# Print my_quat\n",
    "print(my_quat)"
   ]
  },
  {
   "cell_type": "code",
   "execution_count": 3,
   "metadata": {},
   "outputs": [
    {
     "name": "stdout",
     "output_type": "stream",
     "text": [
      "geometry_msgs.msg.Quaternion(x=0.0, y=1.0, z=0.0, w=0.0)\n"
     ]
    }
   ],
   "source": [
    "from geometry_msgs.msg import Quaternion\n",
    "\n",
    "# Create a list of floats, which is compatible with tf2\n",
    "# Quaternion methods\n",
    "quat_tf = [0.0, 1.0, 0.0, 0.0]\n",
    "\n",
    "# Convert a list to geometry_msgs.msg.Quaternion\n",
    "msg_quat = Quaternion(x=quat_tf[0], y=quat_tf[1], z=quat_tf[2], w=quat_tf[3])\n",
    "\n",
    "print(msg_quat)"
   ]
  },
  {
   "cell_type": "code",
   "execution_count": 4,
   "metadata": {},
   "outputs": [
    {
     "name": "stdout",
     "output_type": "stream",
     "text": [
      "(3.141592653589793, 0.0, 3.141592653589793)\n"
     ]
    }
   ],
   "source": [
    "# convert geometry_msgs.msg.Quaternion to euler angles\n",
    "eulers = quaternion_to_euler(msg_quat.w, msg_quat.x, msg_quat.y, msg_quat.z)\n",
    "print(eulers)"
   ]
  },
  {
   "cell_type": "code",
   "execution_count": 5,
   "metadata": {},
   "outputs": [
    {
     "name": "stdout",
     "output_type": "stream",
     "text": [
      "[0.         0.         0.70710678 0.70710678]\n"
     ]
    }
   ],
   "source": [
    "q1 = quaternion_from_euler(0, 0, np.pi/2)\n",
    "\n",
    "print(q1)"
   ]
  }
 ],
 "metadata": {
  "kernelspec": {
   "display_name": "Python 3",
   "language": "python",
   "name": "python3"
  },
  "language_info": {
   "codemirror_mode": {
    "name": "ipython",
    "version": 3
   },
   "file_extension": ".py",
   "mimetype": "text/x-python",
   "name": "python",
   "nbconvert_exporter": "python",
   "pygments_lexer": "ipython3",
   "version": "3.10.12"
  },
  "orig_nbformat": 4
 },
 "nbformat": 4,
 "nbformat_minor": 2
}
